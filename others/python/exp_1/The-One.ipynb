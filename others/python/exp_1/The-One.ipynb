{
 "cells": [
  {
   "cell_type": "code",
   "execution_count": 36,
   "metadata": {},
   "outputs": [
    {
     "name": "stdout",
     "output_type": "stream",
     "text": [
      "Hello kamalakar garu\n",
      "Hello m\n",
      "Hello M\n",
      "kamalakarkamalakar\n"
     ]
    }
   ],
   "source": [
    "myvar = \"kamalakar\";\n",
    "print(\"Hello \"+myvar+' garu')\n",
    "print(\"Hello \"+myvar[2])\n",
    "print(\"Hello \"+myvar.upper()[2])\n",
    "print(myvar+myvar)"
   ]
  },
  {
   "cell_type": "code",
   "execution_count": 37,
   "metadata": {},
   "outputs": [
    {
     "name": "stdout",
     "output_type": "stream",
     "text": [
      "Concat Example\n"
     ]
    }
   ],
   "source": [
    "str_a = 'Concat '; str_b = 'Example' \n",
    "str_a += str_b; print(str_a)"
   ]
  },
  {
   "cell_type": "code",
   "execution_count": 54,
   "metadata": {},
   "outputs": [
    {
     "name": "stdout",
     "output_type": "stream",
     "text": [
      "ok\n"
     ]
    }
   ],
   "source": [
    "ms='apple'\n",
    "if(ms=='apple'): \n",
    "    print('ok');     \n",
    "else: \n",
    "    print('not ok')\n"
   ]
  },
  {
   "cell_type": "code",
   "execution_count": 57,
   "metadata": {},
   "outputs": [
    {
     "name": "stdout",
     "output_type": "stream",
     "text": [
      "not ok\n"
     ]
    }
   ],
   "source": [
    "ms='apples'\n",
    "if(ms=='apple'): print('ok');     \n",
    "else: print('not ok')"
   ]
  },
  {
   "cell_type": "code",
   "execution_count": 65,
   "metadata": {},
   "outputs": [
    {
     "name": "stdout",
     "output_type": "stream",
     "text": [
      "trues\n"
     ]
    }
   ],
   "source": [
    "ms='apple'\n",
    "if (ms.lower()=='APPLE'.lower()) :\n",
    "    print('trues')"
   ]
  },
  {
   "cell_type": "code",
   "execution_count": 77,
   "metadata": {},
   "outputs": [
    {
     "name": "stdout",
     "output_type": "stream",
     "text": [
      "k\n",
      "a\n",
      "m\n",
      "a\n",
      "l\n",
      "a\n",
      "k\n",
      "a\n",
      "r\n"
     ]
    }
   ],
   "source": [
    "for it in \"kamalakar\":\n",
    "     print(it)\n",
    "   "
   ]
  },
  {
   "cell_type": "code",
   "execution_count": 86,
   "metadata": {},
   "outputs": [
    {
     "name": "stdout",
     "output_type": "stream",
     "text": [
      "ll\n"
     ]
    }
   ],
   "source": [
    "txt = \"Hello World\"[2:4:]; print(txt)\n"
   ]
  },
  {
   "cell_type": "code",
   "execution_count": 34,
   "metadata": {},
   "outputs": [
    {
     "name": "stdout",
     "output_type": "stream",
     "text": [
      "security\n",
      "utility\n",
      "utility\n",
      "document\n",
      "enrolment\n",
      "enrolment\n",
      "enrolment\n"
     ]
    }
   ],
   "source": [
    "data = open('file.txt','r').readlines()\n",
    "for line in data:\n",
    "    print(line.split('-')[0])\n",
    "    \n"
   ]
  },
  {
   "cell_type": "code",
   "execution_count": 39,
   "metadata": {},
   "outputs": [
    {
     "name": "stdout",
     "output_type": "stream",
     "text": [
      "security-utilities\n",
      "\n",
      "utility-graphql-server\n",
      "\n",
      "utility-graphql-gateway\n",
      "\n",
      "document-utilities\n",
      "\n",
      "enrolment-api\n",
      "\n",
      "enrolment-node\n",
      "\n",
      "enrolment-react\n",
      "\n"
     ]
    }
   ],
   "source": [
    "for x in open('file.txt','r').readlines():\n",
    "    print(x)"
   ]
  },
  {
   "cell_type": "code",
   "execution_count": 1,
   "metadata": {},
   "outputs": [
    {
     "name": "stdout",
     "output_type": "stream",
     "text": [
      "['security', 'utilities', 'react']\n",
      "security\n",
      "utilities\n",
      "react\n"
     ]
    }
   ],
   "source": [
    "word = 'security-utilities-react'\n",
    "xy=word.split('-')\n",
    "print(xy)\n",
    "\n",
    "for xp in xy:\n",
    "    print(xp)"
   ]
  },
  {
   "cell_type": "code",
   "execution_count": 14,
   "metadata": {},
   "outputs": [
    {
     "name": "stdout",
     "output_type": "stream",
     "text": [
      "enter your name\n",
      "kamal\n",
      "you are a kamal right\n"
     ]
    }
   ],
   "source": [
    "print('enter your name')\n",
    "data = input()\n",
    "if ( data=='kamal'):\n",
    "    print('you are a',data,'right')\n",
    "else:\n",
    "    print('you are a', data)"
   ]
  },
  {
   "cell_type": "code",
   "execution_count": 44,
   "metadata": {},
   "outputs": [
    {
     "name": "stdout",
     "output_type": "stream",
     "text": [
      "Hello\n"
     ]
    }
   ],
   "source": [
    "\n",
    "def myfun():\n",
    "    print(\"Hello\")\n",
    "myfun()"
   ]
  },
  {
   "cell_type": "code",
   "execution_count": 51,
   "metadata": {},
   "outputs": [
    {
     "name": "stdout",
     "output_type": "stream",
     "text": [
      "1st line\n",
      "2nd line\n"
     ]
    }
   ],
   "source": [
    "if ( 2>1 ):\n",
    "    print('1st line')\n",
    "    print('2nd line')"
   ]
  },
  {
   "cell_type": "code",
   "execution_count": 56,
   "metadata": {},
   "outputs": [
    {
     "name": "stdout",
     "output_type": "stream",
     "text": [
      "I just printed 10 pages to the printer Canon\n"
     ]
    }
   ],
   "source": [
    "x=10;  printer=\"Canon\"\n",
    "print('I just printed %s pages to the printer %s' % (x, printer))"
   ]
  },
  {
   "cell_type": "code",
   "execution_count": 67,
   "metadata": {},
   "outputs": [
    {
     "name": "stdout",
     "output_type": "stream",
     "text": [
      "I just printed 10 pages to the printer Canon\n"
     ]
    }
   ],
   "source": [
    "\n",
    "print(f'I just printed {x} pages to the printer {printer}')"
   ]
  }
 ],
 "metadata": {
  "kernelspec": {
   "display_name": "Python 3",
   "language": "python",
   "name": "python3"
  },
  "language_info": {
   "codemirror_mode": {
    "name": "ipython",
    "version": 3
   },
   "file_extension": ".py",
   "mimetype": "text/x-python",
   "name": "python",
   "nbconvert_exporter": "python",
   "pygments_lexer": "ipython3",
   "version": "3.7.3"
  }
 },
 "nbformat": 4,
 "nbformat_minor": 2
}
